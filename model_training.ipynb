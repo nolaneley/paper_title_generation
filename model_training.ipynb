{
 "cells": [
  {
   "cell_type": "code",
   "execution_count": 8,
   "id": "72f83b85",
   "metadata": {},
   "outputs": [
    {
     "data": {
      "text/plain": [
       "'CURRENT PEDIATRIC DRUGS+WORLD WAR II AND MAYO+IMPORTANCE OF BREAST BIOPSY INCISION IN FINAL OUTCOME OF BREAST RECONSTRUCTION+BIOCHEMICAL EVALUATION OF ADRENAL DYSFUNCTION: THE LABORATORY PERSPECTIVE+PANCREATIC PSEUDOCYST THAT COMPRESSED THE INFERIOR VENA CAVA AND RESULTED IN EDEMA OF THE LOWER EXTREMITIES+DERMATOLOGIC MANIFESTATIONS OF HUMAN IMMUNODEFICIENCY VIRUS INFECTION+SURGICAL TREATMENT OF POSTINFARCTION RUPTURE OF A PAPILLARY MUSCLE+THE EVOLUTION OF MANAGEMENT OF POSTOPERATIVE PAIN+MAYO FOUNDATION COURSES AND MEETINGS+COLONOSCOPY+COLONOSCOPY: DR. MACCARTY REPLIES+THE SPINAL CORD INJURED PATIENT: COMPREHENSIVE MANAGEMENT+MEDICAL AND SURGICAL DISEASES OF THE PANCREAS+DIARRHEAL DISEASES (CURRENT TOPICS IN GASTROENTEROLOGY SERIES)+THE FOOT IN DIABETES+FOR PATIENTS: YOU AND HIV: A DAY AT A TIME+CONTRIBUTION OF A MEASURE OF DISEASE COMPLEXITY (COMPLEX) TO PREDICTION OF OUTCOME AND CHARGES AMONG HOSPITALIZED PATIENTS+MEASUREMENT OF SMALL BOWEL AND COLONIC TRANSIT: INDICATIONS AND METH'"
      ]
     },
     "execution_count": 8,
     "metadata": {},
     "output_type": "execute_result"
    }
   ],
   "source": [
    "import os\n",
    "import pandas as pd\n",
    "import numpy as np\n",
    "import torch\n",
    "import torch.nn as nn\n",
    "import torch.optim as optim\n",
    "import torch.utils.data as data\n",
    "device = torch.device(\"cuda\" if torch.cuda.is_available() else \"cpu\")\n",
    "\n",
    "# Load titles as string\n",
    "titles = open('titles.txt', 'r', encoding='utf-8').read()\n",
    "titles[0:999]"
   ]
  },
  {
   "cell_type": "code",
   "execution_count": 2,
   "id": "296243fb",
   "metadata": {},
   "outputs": [],
   "source": [
    "# Assign characters to integers\n",
    "chars = sorted(list(set(titles)))\n",
    "char_to_int = dict((c, i) for i, c in enumerate(chars))"
   ]
  },
  {
   "cell_type": "code",
   "execution_count": 3,
   "id": "5ef22266",
   "metadata": {},
   "outputs": [
    {
     "name": "stdout",
     "output_type": "stream",
     "text": [
      "Total Characters: 427981 \n",
      "Total Vocab: 45\n"
     ]
    }
   ],
   "source": [
    "# Summarize data\n",
    "n_chars = len(titles)\n",
    "n_vocab = len(chars)\n",
    "print(f\"Total Characters: {n_chars} \")\n",
    "print(f\"Total Vocab: {n_vocab}\")"
   ]
  },
  {
   "cell_type": "code",
   "execution_count": 4,
   "id": "962696b8",
   "metadata": {},
   "outputs": [
    {
     "name": "stdout",
     "output_type": "stream",
     "text": [
      "Total Patterns:  427881\n"
     ]
    }
   ],
   "source": [
    "# Prepare dataset of input to output pairs encoded as integers\n",
    "seq_length = 100\n",
    "dataX, dataY = [], []\n",
    "for i in range(0, n_chars - seq_length, 1):\n",
    "    seq_in = titles[i:i + seq_length]\n",
    "    seq_out = titles[i + seq_length]\n",
    "    dataX.append([char_to_int[char] for char in seq_in])\n",
    "    dataY.append(char_to_int[seq_out])\n",
    "n_patterns = len(dataX)\n",
    "print(\"Total Patterns: \", n_patterns)"
   ]
  },
  {
   "cell_type": "code",
   "execution_count": 5,
   "id": "7fbd56ec",
   "metadata": {},
   "outputs": [
    {
     "name": "stdout",
     "output_type": "stream",
     "text": [
      "torch.Size([427881, 100, 1]) torch.Size([427881])\n"
     ]
    }
   ],
   "source": [
    "# Reshape X to be [samples, time steps, features]\n",
    "X = torch.tensor(dataX, dtype=torch.float32).reshape(n_patterns, seq_length, 1)\n",
    "X = X / float(n_vocab) # works better as number between 0 and 1\n",
    "y = torch.tensor(dataY)\n",
    "print(X.shape, y.shape)"
   ]
  },
  {
   "cell_type": "code",
   "execution_count": 6,
   "id": "2b21e609",
   "metadata": {},
   "outputs": [],
   "source": [
    "# Define LSTM model\n",
    "class CharModel(nn.Module):\n",
    "    def __init__(self):\n",
    "        super().__init__()\n",
    "        self.lstm = nn.LSTM(input_size=1, hidden_size=256, num_layers=2, batch_first=True, dropout=0.2)\n",
    "        self.dropout = nn.Dropout(0.2)\n",
    "        self.linear = nn.Linear(256, n_vocab)\n",
    "    def forward(self, x):\n",
    "        x, _ = self.lstm(x)\n",
    "        # take only the last output\n",
    "        x = x[:, -1, :]\n",
    "        # produce output\n",
    "        x = self.linear(self.dropout(x))\n",
    "        return x"
   ]
  },
  {
   "cell_type": "code",
   "execution_count": 9,
   "id": "9921c8c8",
   "metadata": {},
   "outputs": [],
   "source": [
    "# Define model parameters\n",
    "n_epochs = 40\n",
    "batch_size = 128\n",
    "model = CharModel()\n",
    "\n",
    "# Set up optimization, loss function, and batch\n",
    "optimizer = optim.Adam(model.parameters())\n",
    "loss_fn = nn.CrossEntropyLoss(reduction=\"sum\")\n",
    "loader = data.DataLoader(data.TensorDataset(X, y), shuffle=True, batch_size=batch_size)\n",
    "for inputs, targets in loader:\n",
    "    inputs, targets = inputs.to(device), targets.to(device)\n",
    "\n",
    "# Initialize values for keeping track of best model\n",
    "best_model = None\n",
    "best_loss = np.inf "
   ]
  },
  {
   "cell_type": "code",
   "execution_count": 11,
   "id": "be754bca",
   "metadata": {},
   "outputs": [],
   "source": [
    "# Create save checkpoint function\n",
    "def save_checkpoint(epoch, model, optimizer, loss):\n",
    "    checkpoint = {\n",
    "                'epoch': epoch,\n",
    "                'model_state_dict': model.state_dict(),\n",
    "                'optimizer_state_dict': optimizer.state_dict(),\n",
    "                'loss': loss\n",
    "                }\n",
    "    filename = f\"model_epoch_{epoch}.pt\"\n",
    "    torch.save(checkpoint, filename)"
   ]
  },
  {
   "cell_type": "code",
   "execution_count": 18,
   "id": "de5ddbe4",
   "metadata": {},
   "outputs": [],
   "source": [
    "# Create function to load latest checkpoint\n",
    "def load_latest_model(model, optimizer=None):\n",
    "    latest_model = max(saved_models, key=lambda x: int(x.split('_')[2].split('.')[0]))\n",
    "    current_model = torch.load(latest_model)\n",
    "    \n",
    "    model.load_state_dict(current_model['model_state_dict'])\n",
    "    optimizer.load_state_dict(current_model['optimizer_state_dict'])\n",
    "        \n",
    "    return current_model['epoch'], model, optimizer"
   ]
  },
  {
   "cell_type": "code",
   "execution_count": 25,
   "id": "35891a74",
   "metadata": {},
   "outputs": [
    {
     "name": "stdout",
     "output_type": "stream",
     "text": [
      "Epoch: 29: Cross-entropy: 468531.7812\n",
      "Epoch: 30: Cross-entropy: 463084.7188\n",
      "Epoch: 31: Cross-entropy: 457788.6250\n",
      "Epoch: 32: Cross-entropy: 459815.1250\n",
      "Epoch: 33: Cross-entropy: 455446.7188\n",
      "Epoch: 34: Cross-entropy: 455746.1562\n",
      "Epoch: 35: Cross-entropy: 451877.4688\n",
      "Epoch: 36: Cross-entropy: 452637.7188\n",
      "Epoch: 37: Cross-entropy: 448450.6562\n",
      "Epoch: 38: Cross-entropy: 453189.9375\n",
      "Epoch: 39: Cross-entropy: 446414.4375\n"
     ]
    }
   ],
   "source": [
    "saved_models = [f for f in os.listdir() if f.startswith('model') and f.endswith('.pt')]\n",
    "if saved_models:\n",
    "    epoch, model, optimizer = load_latest_model(model, optimizer)\n",
    "else:\n",
    "    epoch = 0\n",
    "    \n",
    "    \n",
    "model = model.to(device)\n",
    "\n",
    "# Training loop\n",
    "for current_epoch in range(epoch + 1, n_epochs):\n",
    "    # Training\n",
    "    model.train()\n",
    "    for X_batch, y_batch in loader:\n",
    "        y_pred = model(X_batch)\n",
    "        loss = loss_fn(y_pred, y_batch)\n",
    "        optimizer.zero_grad()\n",
    "        loss.backward()\n",
    "        optimizer.step()\n",
    "    \n",
    "    # Validation\n",
    "    model.eval()\n",
    "    loss = 0\n",
    "    with torch.no_grad():\n",
    "        for X_batch, y_batch in loader:\n",
    "            y_pred = model(X_batch)\n",
    "            loss += loss_fn(y_pred, y_batch)\n",
    "        if loss < best_loss:\n",
    "            best_loss = loss\n",
    "            best_model = model.state_dict()\n",
    "        print(\"Epoch: %d: Cross-entropy: %.4f\" % (current_epoch, loss))\n",
    "        \n",
    "    # Save checkpoint\n",
    "    save_checkpoint(current_epoch, model, optimizer, loss)"
   ]
  },
  {
   "cell_type": "code",
   "execution_count": 26,
   "id": "e04e400e",
   "metadata": {},
   "outputs": [],
   "source": [
    "torch.save([best_model, char_to_int], \"40model.pth\")"
   ]
  }
 ],
 "metadata": {
  "kernelspec": {
   "display_name": "Python 3 (ipykernel)",
   "language": "python",
   "name": "python3"
  },
  "language_info": {
   "codemirror_mode": {
    "name": "ipython",
    "version": 3
   },
   "file_extension": ".py",
   "mimetype": "text/x-python",
   "name": "python",
   "nbconvert_exporter": "python",
   "pygments_lexer": "ipython3",
   "version": "3.11.4"
  }
 },
 "nbformat": 4,
 "nbformat_minor": 5
}
