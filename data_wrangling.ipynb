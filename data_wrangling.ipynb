{
 "cells": [
  {
   "cell_type": "markdown",
   "id": "d31aa761",
   "metadata": {},
   "source": [
    "### Notes\n",
    "- RNN\n",
    "- One-hot encoding\n",
    "- Stop character at end of each paper title "
   ]
  },
  {
   "cell_type": "code",
   "execution_count": 77,
   "id": "fc2fd5f9",
   "metadata": {},
   "outputs": [],
   "source": [
    "import json\n",
    "import pandas as pd\n",
    "import numpy as np\n",
    "import os\n",
    "\n",
    "# df = pd.read_json('86.json')\n",
    "# df"
   ]
  },
  {
   "cell_type": "code",
   "execution_count": 60,
   "id": "239c7cb9",
   "metadata": {},
   "outputs": [
    {
     "name": "stdout",
     "output_type": "stream",
     "text": [
      "indexed\n",
      "reference-count\n",
      "publisher\n",
      "issue\n",
      "content-domain\n",
      "short-container-title\n",
      "published-print\n",
      "DOI\n",
      "type\n",
      "created\n",
      "page\n",
      "source\n",
      "is-referenced-by-count\n",
      "title\n",
      "prefix\n",
      "volume\n",
      "member\n",
      "container-title\n",
      "original-title\n",
      "link\n",
      "deposited\n",
      "score\n",
      "subtitle\n",
      "short-title\n",
      "issued\n",
      "references-count\n",
      "URL\n",
      "relation\n",
      "ISSN\n",
      "issn-type\n"
     ]
    }
   ],
   "source": [
    "# row = df.loc[0, 'items']\n",
    "\n",
    "# for key in row.keys():\n",
    "#     print(key)"
   ]
  },
  {
   "cell_type": "code",
   "execution_count": 61,
   "id": "aa6e6548",
   "metadata": {},
   "outputs": [
    {
     "data": {
      "text/plain": [
       "['THE ORIGINAL OF MULTIPLE LIPOMAS.']"
      ]
     },
     "execution_count": 61,
     "metadata": {},
     "output_type": "execute_result"
    }
   ],
   "source": [
    "row['title']"
   ]
  },
  {
   "cell_type": "code",
   "execution_count": 96,
   "id": "c540cf59",
   "metadata": {},
   "outputs": [],
   "source": [
    "import re\n",
    "\n",
    "titles = \"\"\n",
    "cwd = os.getcwd()\n",
    "dir_path = cwd + \"/data/\"\n",
    "files = os.listdir(dir_path)\n",
    "allowed_pattern = r\"[^A-Z0-9?().:; ]\"\n",
    "\n",
    "for file in files:\n",
    "    if file.endswith('.json'):        \n",
    "        df = pd.read_json(dir_path + file)\n",
    "    for i in range(len(df)):\n",
    "        row = df.loc[i, 'items']\n",
    "        title = row['title']\n",
    "        title_upper = title[0].upper()\n",
    "        title_upper = re.sub(allowed_pattern, \"\", title_upper)\n",
    "        titles = titles + title_upper + \"+\"\n"
   ]
  },
  {
   "cell_type": "code",
   "execution_count": 97,
   "id": "5b1112c6",
   "metadata": {},
   "outputs": [
    {
     "name": "stdout",
     "output_type": "stream",
     "text": [
      "Max title length:  295\n",
      "Min title length:  8\n",
      "Average title length:  35\n"
     ]
    }
   ],
   "source": [
    "mean = sum(lens) / len(lens)\n",
    "\n",
    "print(\"Max title length: \", max(lens))\n",
    "print(\"Min title length: \", min(lens))\n",
    "print(\"Average title length: \", int(mean))\n"
   ]
  },
  {
   "cell_type": "code",
   "execution_count": 98,
   "id": "870a6aa8",
   "metadata": {},
   "outputs": [],
   "source": [
    "chars = sorted(list(set(titles)))\n",
    "char_to_int = dict((c, i) for i, c in enumerate(chars))"
   ]
  },
  {
   "cell_type": "code",
   "execution_count": 99,
   "id": "3dcafc65",
   "metadata": {},
   "outputs": [
    {
     "name": "stdout",
     "output_type": "stream",
     "text": [
      "Total Characters:  676869\n",
      "Total Vocab:  44\n"
     ]
    }
   ],
   "source": [
    "# Summarize data\n",
    "n_chars = len(titles)\n",
    "n_vocab = len(chars)\n",
    "print(\"Total Characters: \", n_chars)\n",
    "print(\"Total Vocab: \", n_vocab)"
   ]
  },
  {
   "cell_type": "code",
   "execution_count": 100,
   "id": "993b35e8",
   "metadata": {},
   "outputs": [
    {
     "name": "stdout",
     "output_type": "stream",
     "text": [
      "Total Patterns:  676769\n"
     ]
    }
   ],
   "source": [
    "# Prepare dataset of input to output pairs encoded as integers\n",
    "seq_length = 100\n",
    "dataX, dataY = [], []\n",
    "for i in range(0, n_chars - seq_length, 1):\n",
    "    seq_in = titles[i:i + seq_length]\n",
    "    seq_out = titles[i + seq_length]\n",
    "    dataX.append([char_to_int[char] for char in seq_in])\n",
    "    dataY.append(char_to_int[seq_out])\n",
    "n_patterns = len(dataX)\n",
    "print(\"Total Patterns: \", n_patterns)"
   ]
  },
  {
   "cell_type": "code",
   "execution_count": 101,
   "id": "9f07d0e1",
   "metadata": {},
   "outputs": [
    {
     "name": "stdout",
     "output_type": "stream",
     "text": [
      "torch.Size([676769, 100, 1]) torch.Size([676769])\n"
     ]
    }
   ],
   "source": [
    "import torch\n",
    "\n",
    "# Reshape X to be [samples, time steps, features]\n",
    "X = torch.tensor(dataX, dtype=torch.float32).reshape(n_patterns, seq_length, 1)\n",
    "X = X / float(n_vocab) # works better as number between 0 and 1\n",
    "y = torch.tensor(dataY)\n",
    "print(X.shape, y.shape)"
   ]
  },
  {
   "cell_type": "code",
   "execution_count": 102,
   "id": "47851296",
   "metadata": {},
   "outputs": [],
   "source": [
    "import torch.nn as nn\n",
    "import torch.optim as optim\n",
    "import torch.utils.data as data\n",
    "\n",
    "# Define LSTM model\n",
    "class CharModel(nn.Module):\n",
    "    def __init__(self):\n",
    "        super().__init__()\n",
    "        self.lstm = nn.LSTM(input_size=1, hidden_size=256, num_layers=2, batch_first=True, dropout=0.2)\n",
    "        self.dropout = nn.Dropout(0.2)\n",
    "        self.linear = nn.Linear(256, n_vocab)\n",
    "    def forward(self, x):\n",
    "        x, _ = self.lstm(x)\n",
    "        # take only the last output\n",
    "        x = x[:, -1, :]\n",
    "        # produce output\n",
    "        x = self.linear(self.dropout(x))\n",
    "        return x"
   ]
  },
  {
   "cell_type": "code",
   "execution_count": null,
   "id": "a246e4ef",
   "metadata": {},
   "outputs": [
    {
     "name": "stdout",
     "output_type": "stream",
     "text": [
      "Epoch: 0: Cross-entropy: 1482108.3750\n",
      "Epoch: 1: Cross-entropy: 1283136.3750\n",
      "Epoch: 2: Cross-entropy: 1133733.5000\n",
      "Epoch: 3: Cross-entropy: 1067214.7500\n",
      "Epoch: 4: Cross-entropy: 1020781.3750\n",
      "Epoch: 5: Cross-entropy: 986601.9375\n",
      "Epoch: 6: Cross-entropy: 968193.4375\n"
     ]
    }
   ],
   "source": [
    "# Create and run model\n",
    "n_epochs = 25\n",
    "batch_size = 128\n",
    "model = CharModel()\n",
    "\n",
    "optimizer = optim.Adam(model.parameters())\n",
    "loss_fn = nn.CrossEntropyLoss(reduction=\"sum\")\n",
    "loader = data.DataLoader(data.TensorDataset(X, y), shuffle=True, batch_size=batch_size)\n",
    "\n",
    "best_model = None\n",
    "best_loss = np.inf\n",
    "for epoch in range(n_epochs):\n",
    "    model.train()\n",
    "    for X_batch, y_batch in loader:\n",
    "        y_pred = model(X_batch)\n",
    "        loss = loss_fn(y_pred, y_batch)\n",
    "        optimizer.zero_grad()\n",
    "        loss.backward()\n",
    "        optimizer.step()\n",
    "    #Validation\n",
    "    model.eval()\n",
    "    loss = 0\n",
    "    with torch.no_grad():\n",
    "        for X_batch, y_batch in loader:\n",
    "            y_pred = model(X_batch)\n",
    "            loss += loss_fn(y_pred, y_batch)\n",
    "        if loss < best_loss:\n",
    "            best_loss = loss\n",
    "            best_model = model.state_dict()\n",
    "        print(\"Epoch: %d: Cross-entropy: %.4f\" % (epoch, loss))"
   ]
  },
  {
   "cell_type": "code",
   "execution_count": 73,
   "id": "6905cdc0",
   "metadata": {},
   "outputs": [],
   "source": [
    "torch.save([best_model, char_to_int], \"model_25_12000.pth\")"
   ]
  }
 ],
 "metadata": {
  "kernelspec": {
   "display_name": "Python 3 (ipykernel)",
   "language": "python",
   "name": "python3"
  },
  "language_info": {
   "codemirror_mode": {
    "name": "ipython",
    "version": 3
   },
   "file_extension": ".py",
   "mimetype": "text/x-python",
   "name": "python",
   "nbconvert_exporter": "python",
   "pygments_lexer": "ipython3",
   "version": "3.11.4"
  }
 },
 "nbformat": 4,
 "nbformat_minor": 5
}
