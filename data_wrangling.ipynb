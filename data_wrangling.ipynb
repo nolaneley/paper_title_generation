{
 "cells": [
  {
   "cell_type": "markdown",
   "id": "d31aa761",
   "metadata": {},
   "source": [
    "### Notes\n",
    "Data wrangling for getting titles from crossref.org metadata."
   ]
  },
  {
   "cell_type": "code",
   "execution_count": 8,
   "id": "ca95fa76",
   "metadata": {},
   "outputs": [],
   "source": [
    "import json\n",
    "import pandas as pd\n",
    "import numpy as np\n",
    "import os\n",
    "\n",
    "# Get directory information for file processing\n",
    "cwd = os.getcwd()\n",
    "dir_path = cwd + \"/data/\"\n",
    "files = os.listdir(dir_path)\n",
    "\n"
   ]
  },
  {
   "cell_type": "code",
   "execution_count": 9,
   "id": "521e4b6f",
   "metadata": {},
   "outputs": [
    {
     "data": {
      "text/html": [
       "<div>\n",
       "<style scoped>\n",
       "    .dataframe tbody tr th:only-of-type {\n",
       "        vertical-align: middle;\n",
       "    }\n",
       "\n",
       "    .dataframe tbody tr th {\n",
       "        vertical-align: top;\n",
       "    }\n",
       "\n",
       "    .dataframe thead th {\n",
       "        text-align: right;\n",
       "    }\n",
       "</style>\n",
       "<table border=\"1\" class=\"dataframe\">\n",
       "  <thead>\n",
       "    <tr style=\"text-align: right;\">\n",
       "      <th></th>\n",
       "      <th>items</th>\n",
       "    </tr>\n",
       "  </thead>\n",
       "  <tbody>\n",
       "    <tr>\n",
       "      <th>0</th>\n",
       "      <td>{'indexed': {'date-parts': [[2020, 3, 25]], 'd...</td>\n",
       "    </tr>\n",
       "    <tr>\n",
       "      <th>1</th>\n",
       "      <td>{'indexed': {'date-parts': [[2020, 3, 25]], 'd...</td>\n",
       "    </tr>\n",
       "    <tr>\n",
       "      <th>2</th>\n",
       "      <td>{'indexed': {'date-parts': [[2020, 3, 25]], 'd...</td>\n",
       "    </tr>\n",
       "    <tr>\n",
       "      <th>3</th>\n",
       "      <td>{'indexed': {'date-parts': [[2020, 3, 25]], 'd...</td>\n",
       "    </tr>\n",
       "    <tr>\n",
       "      <th>4</th>\n",
       "      <td>{'indexed': {'date-parts': [[2020, 3, 25]], 'd...</td>\n",
       "    </tr>\n",
       "    <tr>\n",
       "      <th>...</th>\n",
       "      <td>...</td>\n",
       "    </tr>\n",
       "    <tr>\n",
       "      <th>2995</th>\n",
       "      <td>{'indexed': {'date-parts': [[2020, 3, 25]], 'd...</td>\n",
       "    </tr>\n",
       "    <tr>\n",
       "      <th>2996</th>\n",
       "      <td>{'indexed': {'date-parts': [[2020, 3, 25]], 'd...</td>\n",
       "    </tr>\n",
       "    <tr>\n",
       "      <th>2997</th>\n",
       "      <td>{'indexed': {'date-parts': [[2020, 3, 25]], 'd...</td>\n",
       "    </tr>\n",
       "    <tr>\n",
       "      <th>2998</th>\n",
       "      <td>{'indexed': {'date-parts': [[2020, 3, 25]], 'd...</td>\n",
       "    </tr>\n",
       "    <tr>\n",
       "      <th>2999</th>\n",
       "      <td>{'indexed': {'date-parts': [[2020, 3, 25]], 'd...</td>\n",
       "    </tr>\n",
       "  </tbody>\n",
       "</table>\n",
       "<p>3000 rows × 1 columns</p>\n",
       "</div>"
      ],
      "text/plain": [
       "                                                  items\n",
       "0     {'indexed': {'date-parts': [[2020, 3, 25]], 'd...\n",
       "1     {'indexed': {'date-parts': [[2020, 3, 25]], 'd...\n",
       "2     {'indexed': {'date-parts': [[2020, 3, 25]], 'd...\n",
       "3     {'indexed': {'date-parts': [[2020, 3, 25]], 'd...\n",
       "4     {'indexed': {'date-parts': [[2020, 3, 25]], 'd...\n",
       "...                                                 ...\n",
       "2995  {'indexed': {'date-parts': [[2020, 3, 25]], 'd...\n",
       "2996  {'indexed': {'date-parts': [[2020, 3, 25]], 'd...\n",
       "2997  {'indexed': {'date-parts': [[2020, 3, 25]], 'd...\n",
       "2998  {'indexed': {'date-parts': [[2020, 3, 25]], 'd...\n",
       "2999  {'indexed': {'date-parts': [[2020, 3, 25]], 'd...\n",
       "\n",
       "[3000 rows x 1 columns]"
      ]
     },
     "execution_count": 9,
     "metadata": {},
     "output_type": "execute_result"
    }
   ],
   "source": [
    "# Read random file and peek at data\n",
    "df = pd.read_json(dir_path + '86.json')\n",
    "df"
   ]
  },
  {
   "cell_type": "code",
   "execution_count": 10,
   "id": "4070cd46",
   "metadata": {},
   "outputs": [
    {
     "name": "stdout",
     "output_type": "stream",
     "text": [
      "indexed\n",
      "reference-count\n",
      "publisher\n",
      "issue\n",
      "content-domain\n",
      "short-container-title\n",
      "published-print\n",
      "DOI\n",
      "type\n",
      "created\n",
      "page\n",
      "source\n",
      "is-referenced-by-count\n",
      "title\n",
      "prefix\n",
      "volume\n",
      "member\n",
      "container-title\n",
      "original-title\n",
      "link\n",
      "deposited\n",
      "score\n",
      "subtitle\n",
      "short-title\n",
      "issued\n",
      "references-count\n",
      "URL\n",
      "relation\n",
      "ISSN\n",
      "issn-type\n"
     ]
    }
   ],
   "source": [
    "# Look at random row to see names of columns\n",
    "row = df.loc[2222, 'items']\n",
    "\n",
    "for key in row.keys():\n",
    "    print(key)"
   ]
  },
  {
   "cell_type": "code",
   "execution_count": 11,
   "id": "56d0f8ed",
   "metadata": {},
   "outputs": [
    {
     "data": {
      "text/plain": [
       "'THE OPERATIVE TREATMENT OF TYPHOID PERFORATION.'"
      ]
     },
     "execution_count": 11,
     "metadata": {},
     "output_type": "execute_result"
    }
   ],
   "source": [
    "# Look at title of above random row\n",
    "row['title'][0]"
   ]
  },
  {
   "cell_type": "code",
   "execution_count": 13,
   "id": "5ada91e6",
   "metadata": {},
   "outputs": [],
   "source": [
    "# Define acceptable characters in title\n",
    "import re\n",
    "pattern = r\"[^A-Z0-9?().:;' ]\"\n",
    "\n",
    "# Initialize variables\n",
    "total = 0\n",
    "titles = \"\"\n",
    "lens = []\n",
    "\n",
    "# Batch process titles into single string\n",
    "for file in files:\n",
    "    if file.endswith('.json'):\n",
    "        df = pd.read_json(dir_path + file)\n",
    "    for i in range(len(df)):\n",
    "        row = df.loc[i, 'items']\n",
    "        title = row['title']\n",
    "        title_upper = title[0].upper()\n",
    "        if re.search(pattern, title_upper) is None and title_upper != \"BOOKS RECEIVED\" and \"TEXTBOOK\" not in title_upper and \"CORRECTION\" not in title_upper:\n",
    "            titles = titles + title_upper + \"+\"\n",
    "            total += 1\n",
    "            lens.append(len(title_upper))\n"
   ]
  },
  {
   "cell_type": "code",
   "execution_count": 14,
   "id": "a3339ac0",
   "metadata": {},
   "outputs": [
    {
     "name": "stdout",
     "output_type": "stream",
     "text": [
      "Total number of titles: 8683\n",
      "Max title length: 203\n",
      "Min title length: 5\n",
      "Average title length: 48\n"
     ]
    }
   ],
   "source": [
    "print(f\"Total number of titles: {total}\")\n",
    "print(f\"Max title length: {max(lens)}\")\n",
    "print(f\"Min title length: {min(lens)}\")\n",
    "print(f\"Average title length: {int(sum(lens)/len(lens))}\")\n"
   ]
  },
  {
   "cell_type": "code",
   "execution_count": 15,
   "id": "bff5e9f6",
   "metadata": {},
   "outputs": [],
   "source": [
    "# Save titles\n",
    "with open('titles.txt', \"w\") as file:\n",
    "    file.write(titles)"
   ]
  }
 ],
 "metadata": {
  "kernelspec": {
   "display_name": "Python 3 (ipykernel)",
   "language": "python",
   "name": "python3"
  },
  "language_info": {
   "codemirror_mode": {
    "name": "ipython",
    "version": 3
   },
   "file_extension": ".py",
   "mimetype": "text/x-python",
   "name": "python",
   "nbconvert_exporter": "python",
   "pygments_lexer": "ipython3",
   "version": "3.11.4"
  }
 },
 "nbformat": 4,
 "nbformat_minor": 5
}
