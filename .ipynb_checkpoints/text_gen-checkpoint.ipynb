{
 "cells": [
  {
   "cell_type": "code",
   "execution_count": 5,
   "id": "756a13dc",
   "metadata": {},
   "outputs": [
    {
     "data": {
      "text/plain": [
       "<All keys matched successfully>"
      ]
     },
     "execution_count": 5,
     "metadata": {},
     "output_type": "execute_result"
    }
   ],
   "source": [
    "import numpy as np\n",
    "import torch\n",
    "import torch.nn as nn\n",
    "\n",
    "best_model, char_to_int = torch.load(\"40model.pth\")\n",
    "n_vocab = len(char_to_int)\n",
    "int_to_char = dict((i, c) for c, i in char_to_int.items())\n",
    "\n",
    "# Reload the model\n",
    "class CharModel(nn.Module):\n",
    "    def __init__(self):\n",
    "        super().__init__()\n",
    "        self.lstm = nn.LSTM(input_size=1, hidden_size=256, num_layers=2, batch_first=True, dropout=0.2)\n",
    "        self.dropout = nn.Dropout(0.2)\n",
    "        self.linear = nn.Linear(256, n_vocab)\n",
    "    def forward(self, x):\n",
    "        x, _ = self.lstm(x)\n",
    "        # take only the last output\n",
    "        x = x[:, -1, :]\n",
    "        # produce output\n",
    "        x = self.linear(self.dropout(x))\n",
    "        return x\n",
    "    \n",
    "model = CharModel()\n",
    "model.load_state_dict(best_model)"
   ]
  },
  {
   "cell_type": "code",
   "execution_count": 8,
   "id": "83a2fcd5",
   "metadata": {},
   "outputs": [
    {
     "name": "stdout",
     "output_type": "stream",
     "text": [
      "THE TERTIARY DIAGNOSIS OF A CLASS OF NONLINEAR SYSTEMS\n"
     ]
    }
   ],
   "source": [
    "# Randomly generate prompt\n",
    "seq_length = 20\n",
    "titles = open('titles.txt', 'r', encoding='utf-8').read()\n",
    "n_titles = titles.count(\"+\")\n",
    "indices = [i+1 for i, char in enumerate(titles) if char == \"+\"]\n",
    "start = indices[np.random.randint(0, n_titles - 1)]\n",
    "prompt = titles[start:start+seq_length]\n",
    "\n",
    "#prompt = \"\"\n",
    "\n",
    "pattern = [char_to_int[c] for c in prompt]\n",
    "\n",
    "model.eval()\n",
    "#print('Prompt: \"%s\"' % prompt)\n",
    "output = prompt\n",
    "with torch.no_grad():\n",
    "    i = 0\n",
    "    result = ''\n",
    "    while i < 180 and result != '+':\n",
    "        # Format input array of int into PyTorch tensor\n",
    "        x = np.reshape(pattern, (1, len(pattern), 1)) / float(n_vocab)\n",
    "        x = torch.tensor(x, dtype=torch.float32)\n",
    "        \n",
    "        # Generate logits as output from the model\n",
    "        prediction = model(x)\n",
    "        \n",
    "        # Convert logits into one character\n",
    "        index = int(prediction.argmax())\n",
    "        result = int_to_char[index]\n",
    "        output = output + result\n",
    "        #print(result, end=\"\")\n",
    "        #print(result)\n",
    "        \n",
    "        # Append the new character into the prompt for the next iteration\n",
    "        pattern.append(index)\n",
    "        pattern = pattern[1:]        \n",
    "        i += 1\n",
    "        \n",
    "print(output[:-1])"
   ]
  }
 ],
 "metadata": {
  "kernelspec": {
   "display_name": "Python 3 (ipykernel)",
   "language": "python",
   "name": "python3"
  },
  "language_info": {
   "codemirror_mode": {
    "name": "ipython",
    "version": 3
   },
   "file_extension": ".py",
   "mimetype": "text/x-python",
   "name": "python",
   "nbconvert_exporter": "python",
   "pygments_lexer": "ipython3",
   "version": "3.11.4"
  }
 },
 "nbformat": 4,
 "nbformat_minor": 5
}
