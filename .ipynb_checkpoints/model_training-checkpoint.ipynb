{
 "cells": [
  {
   "cell_type": "code",
   "execution_count": 4,
   "id": "72f83b85",
   "metadata": {},
   "outputs": [],
   "source": [
    "import os\n",
    "import pandas as pd\n",
    "import numpy as np\n",
    "import torch\n",
    "import torch.nn as nn\n",
    "import torch.optim as optim\n",
    "import torch.utils.data as data\n",
    "\n",
    "# Load titles as string\n",
    "titles = open('titles.txt', 'r', encoding='utf-8').read()\n",
    "titles[0:999]"
   ]
  },
  {
   "cell_type": "code",
   "execution_count": 5,
   "id": "296243fb",
   "metadata": {},
   "outputs": [],
   "source": [
    "# Assign characters to integers\n",
    "chars = sorted(list(set(titles)))\n",
    "char_to_int = dict((c, i) for i, c in enumerate(chars))"
   ]
  },
  {
   "cell_type": "code",
   "execution_count": 7,
   "id": "5ef22266",
   "metadata": {},
   "outputs": [
    {
     "name": "stdout",
     "output_type": "stream",
     "text": [
      "Total Characters: 431047 \n",
      "Total Vocab: 45\n"
     ]
    }
   ],
   "source": [
    "# Summarize data\n",
    "n_chars = len(titles)\n",
    "n_vocab = len(chars)\n",
    "print(f\"Total Characters: {n_chars} \")\n",
    "print(f\"Total Vocab: {n_vocab}\")"
   ]
  },
  {
   "cell_type": "code",
   "execution_count": null,
   "id": "962696b8",
   "metadata": {},
   "outputs": [],
   "source": [
    "# Prepare dataset of input to output pairs encoded as integers\n",
    "seq_length = 100\n",
    "dataX, dataY = [], []\n",
    "for i in range(0, n_chars - seq_length, 1):\n",
    "    seq_in = titles[i:i + seq_length]\n",
    "    seq_out = titles[i + seq_length]\n",
    "    dataX.append([char_to_int[char] for char in seq_in])\n",
    "    dataY.append(char_to_int[seq_out])\n",
    "n_patterns = len(dataX)\n",
    "print(\"Total Patterns: \", n_patterns)"
   ]
  },
  {
   "cell_type": "code",
   "execution_count": null,
   "id": "7fbd56ec",
   "metadata": {},
   "outputs": [],
   "source": [
    "# Reshape X to be [samples, time steps, features]\n",
    "X = torch.tensor(dataX, dtype=torch.float32).reshape(n_patterns, seq_length, 1)\n",
    "X = X / float(n_vocab) # works better as number between 0 and 1\n",
    "y = torch.tensor(dataY)\n",
    "print(X.shape, y.shape)"
   ]
  },
  {
   "cell_type": "code",
   "execution_count": null,
   "id": "2b21e609",
   "metadata": {},
   "outputs": [],
   "source": [
    "# Define LSTM model\n",
    "class CharModel(nn.Module):\n",
    "    def __init__(self):\n",
    "        super().__init__()\n",
    "        self.lstm = nn.LSTM(input_size=1, hidden_size=256, num_layers=2, batch_first=True, dropout=0.2)\n",
    "        self.dropout = nn.Dropout(0.2)\n",
    "        self.linear = nn.Linear(256, n_vocab)\n",
    "    def forward(self, x):\n",
    "        x, _ = self.lstm(x)\n",
    "        # take only the last output\n",
    "        x = x[:, -1, :]\n",
    "        # produce output\n",
    "        x = self.linear(self.dropout(x))\n",
    "        return x"
   ]
  },
  {
   "cell_type": "code",
   "execution_count": null,
   "id": "9921c8c8",
   "metadata": {},
   "outputs": [],
   "source": [
    "# Define model parameters\n",
    "n_epochs = 25\n",
    "batch_size = 128\n",
    "model = CharModel()\n",
    "\n",
    "# Define optimization, loss function, and batch\n",
    "optimizer = optim.Adam(model.parameters())\n",
    "loss_fn = nn.CrossEntropyLoss(reduction=\"sum\")\n",
    "loader = data.DataLoader(data.TensorDataset(X, y), shuffle=True, batch_size=batch_size)\n",
    "\n",
    "# Initialize values for keeping track of best model\n",
    "best_model = None\n",
    "best_loss = np.inf"
   ]
  },
  {
   "cell_type": "code",
   "execution_count": null,
   "id": "942c7417",
   "metadata": {},
   "outputs": [],
   "source": [
    "# Create save model/checkpoint function\n",
    "def save_model(epoch, model, optimizer, loss):\n",
    "    checkpoint = {\n",
    "                'epoch': epoch,\n",
    "                'model_state_dict': CharModel.state_dict(),\n",
    "                'optimizer_state_dict': optimizer.state_dict()\n",
    "                'loss':\n",
    "                }\n",
    "    filename = f\"model_epoch_{epoch}.pt\"\n",
    "    torch.save(checkpoint, filename)"
   ]
  },
  {
   "cell_type": "code",
   "execution_count": null,
   "id": "fc6692e7",
   "metadata": {},
   "outputs": [],
   "source": [
    "# Create function to load latest model/checkpoint\n",
    "def load_latest_model(model, optimizer=None):\n",
    "    saved_models = [f for f in os.listdir() if f.startswith('model') and f.endswith(.pt)]\n",
    "    if not saved_models:\n",
    "        return None, None, None\n",
    "    \n",
    "    latest_model = max(saved_models, key=lambda x: int(x.split('_')[2].split('.')[0]))\n",
    "    current_model = torch.load(latest_model)\n",
    "    \n",
    "    model.load_state_dict(current_model['model_state_dict'])\n",
    "    if optimizer:\n",
    "        optimizer.load_state_dict(checkpoint['optimizer_state_dict'])\n",
    "        \n",
    "    return checkpoint['epoch'], model, optimizer"
   ]
  },
  {
   "cell_type": "code",
   "execution_count": null,
   "id": "ce882ab8",
   "metadata": {},
   "outputs": [],
   "source": [
    "epoch, model, optimizer = load_latest_model(model, optimizer)\n",
    "\n",
    "if epoch is None:\n",
    "    epoch = 0\n",
    "    \n",
    "# Training loop\n",
    "for current_epoch in range(n_epochs):\n",
    "    # Training\n",
    "    model.train()\n",
    "    for X_batch, y_batch in loader:\n",
    "        y_pred = model(X_batch)\n",
    "        loss = loss_fn(y_pred, y_batch)\n",
    "        optimizer.zero_grad()\n",
    "        loss.backward()\n",
    "        optimizer.step()\n",
    "    \n",
    "    # Validation\n",
    "    model.eval()\n",
    "    loss = 0\n",
    "    with torch.no_grad():\n",
    "        for X_batch, y_batch in loader:\n",
    "            y_pred = model(X_batch)\n",
    "            loss += loss_fn(y_pred, y_batch)\n",
    "        if loss < best_loss:\n",
    "            best_loss = loss\n",
    "            best_model = model.state_dict()\n",
    "        print(\"Epoch: %d: Cross-entropy: %.4f\" % (epoch, loss))\n",
    "        \n",
    "    # Save checkpoint\n",
    "    save_checkpoint(current_epoch, model, optimizer, loss)"
   ]
  }
 ],
 "metadata": {
  "kernelspec": {
   "display_name": "Python 3 (ipykernel)",
   "language": "python",
   "name": "python3"
  },
  "language_info": {
   "codemirror_mode": {
    "name": "ipython",
    "version": 3
   },
   "file_extension": ".py",
   "mimetype": "text/x-python",
   "name": "python",
   "nbconvert_exporter": "python",
   "pygments_lexer": "ipython3",
   "version": "3.11.4"
  }
 },
 "nbformat": 4,
 "nbformat_minor": 5
}
